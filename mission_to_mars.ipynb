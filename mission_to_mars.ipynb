{
 "cells": [
  {
   "cell_type": "markdown",
   "metadata": {},
   "source": [
    "# Web Scraping and Analysis"
   ]
  },
  {
   "cell_type": "markdown",
   "metadata": {},
   "source": [
    "[NASA Mars Newsite](https://mars.nasa.gov/news/)"
   ]
  },
  {
   "cell_type": "code",
   "execution_count": 1,
   "metadata": {
    "collapsed": true
   },
   "outputs": [],
   "source": [
    "from bs4 import BeautifulSoup as bs\n",
    "import requests\n",
    "import pymongo\n",
    "import pandas as pd\n",
    "from env import path\n",
    "from splinter import Browser"
   ]
  },
  {
   "cell_type": "code",
   "execution_count": 5,
   "metadata": {
    "collapsed": true
   },
   "outputs": [],
   "source": [
    "#connect to mongodb\n",
    "conn = 'mongodb://localhost:27017'\n",
    "client = pymongo.MongoClient(conn)\n",
    "\n",
    "#define db and collection\n",
    "db = client.mars_db\n",
    "collection = db.items"
   ]
  },
  {
   "cell_type": "code",
   "execution_count": 6,
   "metadata": {
    "collapsed": true
   },
   "outputs": [],
   "source": [
    "#to execute the path -- victoria's chunk\n",
    "\n",
    "executable_path = {'executable_path': path}\n",
    "browser = Browser('chrome', **executable_path, headless=False)\n",
    "nasa_url = \"https://mars.nasa.gov/news/\"\n",
    "browser.visit(nasa_url)\n",
    "nasa_html = browser.html\n",
    "nasa_soup=bs(nasa_html, 'html.parser')"
   ]
  },
  {
   "cell_type": "code",
   "execution_count": 11,
   "metadata": {
    "collapsed": true
   },
   "outputs": [],
   "source": [
    "def init_browser():\n",
    "    executable_path = {\"executable_path\": path}\n",
    "    return Browser(\"chrome\", **executable_path, headless=False)\n",
    "\n",
    "browser = init_browser()"
   ]
  },
  {
   "cell_type": "code",
   "execution_count": 25,
   "metadata": {
    "collapsed": true
   },
   "outputs": [],
   "source": [
    "scrape_dict={}"
   ]
  },
  {
   "cell_type": "code",
   "execution_count": 22,
   "metadata": {
    "collapsed": true
   },
   "outputs": [],
   "source": [
    "titles = []\n",
    "\n",
    "results = nasa_soup.find_all('div',class_=\"content_title\")\n",
    "\n",
    "# for result in results:\n",
    "#     #print(result.text)\n",
    "#     titles.append(result.text.strip())\n",
    "    \n",
    "latest_title=results[0].text\n",
    "latest_title\n",
    "\n",
    "scrape_dict[\"latest_title\"] = latest_title"
   ]
  },
  {
   "cell_type": "code",
   "execution_count": 23,
   "metadata": {
    "collapsed": true
   },
   "outputs": [],
   "source": [
    "paragraph = []\n",
    "paras = nasa_soup.find_all('div', class_='rollover_description_inner')\n",
    "paras\n",
    "\n",
    "\n",
    "latest_paragraph = paras[0].text\n",
    "latest_paragraph\n",
    "\n",
    "scrape_dict[\"latest_paragraph\"] = latest_paragraph"
   ]
  },
  {
   "cell_type": "markdown",
   "metadata": {},
   "source": [
    "## Mars Featured Image\n",
    "\n",
    "[Link](https://www.jpl.nasa.gov/spaceimages/?search=&category=Mars)"
   ]
  },
  {
   "cell_type": "code",
   "execution_count": 24,
   "metadata": {
    "collapsed": true
   },
   "outputs": [],
   "source": [
    "featured_image = \"https://www.jpl.nasa.gov/spaceimages/?search=&category=Mars\"\n",
    "browser.visit(featured_image)\n",
    "mars_browser = browser.html\n",
    "featured_mars=bs(mars_browser,'html.parser')"
   ]
  },
  {
   "cell_type": "code",
   "execution_count": 25,
   "metadata": {},
   "outputs": [
    {
     "name": "stdout",
     "output_type": "stream",
     "text": [
      "https://www.jpl.nasa.gov//spaceimages/images/mediumsize/PIA16469_ip.jpg\n"
     ]
    }
   ],
   "source": [
    "featured_path = featured_mars.find(\"a\",\"fancybox\")[\"data-fancybox-href\"]\n",
    "jpl_link = \"https://www.jpl.nasa.gov/\" + featured_path\n",
    "scrape_dict[\"featured_link\"]= jpl_link\n",
    "\n",
    "print(jpl_link)\n"
   ]
  },
  {
   "cell_type": "markdown",
   "metadata": {},
   "source": [
    "## Mars Weather"
   ]
  },
  {
   "cell_type": "code",
   "execution_count": 26,
   "metadata": {
    "collapsed": true
   },
   "outputs": [],
   "source": [
    "twitter_url = \"https://twitter.com/marswxreport?lang=en\"\n",
    "weather_response = requests.get(twitter_url)\n",
    "\n",
    "weather_tweets = bs(weather_response.text,\"html.parser\")\n"
   ]
  },
  {
   "cell_type": "code",
   "execution_count": 27,
   "metadata": {},
   "outputs": [
    {
     "data": {
      "text/plain": [
       "'Sol 2026 (April 18, 2018), Sunny, high -6C/21F, low -73C/-99F, pressure at 7.19 hPa, daylight 05:26-17:21'"
      ]
     },
     "execution_count": 27,
     "metadata": {},
     "output_type": "execute_result"
    }
   ],
   "source": [
    "#first weather tweet for mars \n",
    "latest_weather = weather_tweets.find_all(\"p\",class_=\"TweetTextSize\")[0].text.strip()\n",
    "latest_weather\n",
    "\n",
    "scrape_dict[\"latest_weather\"] = latest_weather\n",
    "\n",
    "latest_weather"
   ]
  },
  {
   "cell_type": "markdown",
   "metadata": {},
   "source": [
    "## Mars Facts"
   ]
  },
  {
   "cell_type": "code",
   "execution_count": 28,
   "metadata": {
    "collapsed": true
   },
   "outputs": [],
   "source": [
    "facts_url = \"https://space-facts.com/mars/\"\n",
    "facts_response = requests.get(facts_url)\n",
    "facts_soup = bs(facts_response.text,\"html.parser\")"
   ]
  },
  {
   "cell_type": "code",
   "execution_count": 29,
   "metadata": {},
   "outputs": [
    {
     "data": {
      "text/plain": [
       "<table class=\"tablepress tablepress-id-mars\" id=\"tablepress-mars\">\n",
       "<tbody>\n",
       "<tr class=\"row-1 odd\">\n",
       "<td class=\"column-1\"><strong>Equatorial Diameter:</strong></td><td class=\"column-2\">6,792 km<br/>\n",
       "</td>\n",
       "</tr>\n",
       "<tr class=\"row-2 even\">\n",
       "<td class=\"column-1\"><strong>Polar Diameter:</strong></td><td class=\"column-2\">6,752 km<br/>\n",
       "</td>\n",
       "</tr>\n",
       "<tr class=\"row-3 odd\">\n",
       "<td class=\"column-1\"><strong>Mass:</strong></td><td class=\"column-2\">6.42 x 10^23 kg (10.7% Earth)</td>\n",
       "</tr>\n",
       "<tr class=\"row-4 even\">\n",
       "<td class=\"column-1\"><strong>Moons:</strong></td><td class=\"column-2\">2 (<a href=\"https://space-facts.com/phobos/\">Phobos</a> &amp; <a href=\"https://space-facts.com/deimos/\">Deimos</a>)</td>\n",
       "</tr>\n",
       "<tr class=\"row-5 odd\">\n",
       "<td class=\"column-1\"><strong>Orbit Distance:</strong></td><td class=\"column-2\">227,943,824 km (1.52 AU)</td>\n",
       "</tr>\n",
       "<tr class=\"row-6 even\">\n",
       "<td class=\"column-1\"><strong>Orbit Period:</strong></td><td class=\"column-2\">687 days (1.9 years)<br/>\n",
       "</td>\n",
       "</tr>\n",
       "<tr class=\"row-7 odd\">\n",
       "<td class=\"column-1\"><strong>Surface Temperature: </strong></td><td class=\"column-2\">-153 to 20 °C</td>\n",
       "</tr>\n",
       "<tr class=\"row-8 even\">\n",
       "<td class=\"column-1\"><strong>First Record:</strong></td><td class=\"column-2\">2nd millennium BC</td>\n",
       "</tr>\n",
       "<tr class=\"row-9 odd\">\n",
       "<td class=\"column-1\"><strong>Recorded By:</strong></td><td class=\"column-2\">Egyptian astronomers</td>\n",
       "</tr>\n",
       "</tbody>\n",
       "</table>"
      ]
     },
     "execution_count": 29,
     "metadata": {},
     "output_type": "execute_result"
    }
   ],
   "source": [
    "table = facts_soup.find_all('table')[0]\n",
    "table"
   ]
  },
  {
   "cell_type": "code",
   "execution_count": 30,
   "metadata": {
    "collapsed": true
   },
   "outputs": [],
   "source": [
    "facts_list = pd.read_html(str(table))[0]\n",
    "\n",
    "df = facts_list.rename(index = str, columns={0:\"Description\", 1:\"Facts\"})\n",
    "\n",
    "html_table = df.to_html()\n",
    "\n",
    "scrape_dict[\"facts_table\"] = html_table"
   ]
  },
  {
   "cell_type": "code",
   "execution_count": 31,
   "metadata": {
    "scrolled": true
   },
   "outputs": [
    {
     "data": {
      "text/plain": [
       "[{0: 0    Equatorial Diameter:\n",
       "  1         Polar Diameter:\n",
       "  2                   Mass:\n",
       "  3                  Moons:\n",
       "  4         Orbit Distance:\n",
       "  5           Orbit Period:\n",
       "  6    Surface Temperature:\n",
       "  7           First Record:\n",
       "  8            Recorded By:\n",
       "  Name: 0, dtype: object, 1: 0                         6,792 km\n",
       "  1                         6,752 km\n",
       "  2    6.42 x 10^23 kg (10.7% Earth)\n",
       "  3              2 (Phobos & Deimos)\n",
       "  4         227,943,824 km (1.52 AU)\n",
       "  5             687 days (1.9 years)\n",
       "  6                    -153 to 20 °C\n",
       "  7                2nd millennium BC\n",
       "  8             Egyptian astronomers\n",
       "  Name: 1, dtype: object}]"
      ]
     },
     "execution_count": 31,
     "metadata": {},
     "output_type": "execute_result"
    }
   ],
   "source": [
    "facts_list_al = pd.read_html(str(table))\n",
    "dict_list = [dict(blank) for blank in facts_list_al]\n",
    "dict_list\n",
    "\n",
    "#scrape_dict[\"dict_list\"] = dict_list"
   ]
  },
  {
   "cell_type": "code",
   "execution_count": 32,
   "metadata": {},
   "outputs": [
    {
     "data": {
      "text/plain": [
       "<table class=\"tablepress tablepress-id-mars\" id=\"tablepress-mars\">\n",
       "<tbody>\n",
       "<tr class=\"row-1 odd\">\n",
       "<td class=\"column-1\"><strong>Equatorial Diameter:</strong></td><td class=\"column-2\">6,792 km<br/>\n",
       "</td>\n",
       "</tr>\n",
       "<tr class=\"row-2 even\">\n",
       "<td class=\"column-1\"><strong>Polar Diameter:</strong></td><td class=\"column-2\">6,752 km<br/>\n",
       "</td>\n",
       "</tr>\n",
       "<tr class=\"row-3 odd\">\n",
       "<td class=\"column-1\"><strong>Mass:</strong></td><td class=\"column-2\">6.42 x 10^23 kg (10.7% Earth)</td>\n",
       "</tr>\n",
       "<tr class=\"row-4 even\">\n",
       "<td class=\"column-1\"><strong>Moons:</strong></td><td class=\"column-2\">2 (<a href=\"https://space-facts.com/phobos/\">Phobos</a> &amp; <a href=\"https://space-facts.com/deimos/\">Deimos</a>)</td>\n",
       "</tr>\n",
       "<tr class=\"row-5 odd\">\n",
       "<td class=\"column-1\"><strong>Orbit Distance:</strong></td><td class=\"column-2\">227,943,824 km (1.52 AU)</td>\n",
       "</tr>\n",
       "<tr class=\"row-6 even\">\n",
       "<td class=\"column-1\"><strong>Orbit Period:</strong></td><td class=\"column-2\">687 days (1.9 years)<br/>\n",
       "</td>\n",
       "</tr>\n",
       "<tr class=\"row-7 odd\">\n",
       "<td class=\"column-1\"><strong>Surface Temperature: </strong></td><td class=\"column-2\">-153 to 20 °C</td>\n",
       "</tr>\n",
       "<tr class=\"row-8 even\">\n",
       "<td class=\"column-1\"><strong>First Record:</strong></td><td class=\"column-2\">2nd millennium BC</td>\n",
       "</tr>\n",
       "<tr class=\"row-9 odd\">\n",
       "<td class=\"column-1\"><strong>Recorded By:</strong></td><td class=\"column-2\">Egyptian astronomers</td>\n",
       "</tr>\n",
       "</tbody>\n",
       "</table>"
      ]
     },
     "execution_count": 32,
     "metadata": {},
     "output_type": "execute_result"
    }
   ],
   "source": [
    "table"
   ]
  },
  {
   "cell_type": "markdown",
   "metadata": {},
   "source": [
    "## Mars Hemispheres"
   ]
  },
  {
   "cell_type": "code",
   "execution_count": 39,
   "metadata": {},
   "outputs": [
    {
     "name": "stdout",
     "output_type": "stream",
     "text": [
      "https://astrogeology.usgs.gov/cache/images/cfa62af2557222a02478f1fcd781d445_cerberus_enhanced.tif_full.jpg\n"
     ]
    }
   ],
   "source": [
    "link_pic1 = \"https://astrogeology.usgs.gov/search/map/Mars/Viking/cerberus_enhanced\"\n",
    "cerberus_response = requests.get(link_pic1)\n",
    "cerberus_soup = bs(cerberus_response.text,\"html.parser\")\n",
    "#print(cerberus_soup.prettify())\n",
    "\n",
    "cerberus_soup.find_all(\"img\",class_=\"wide-image\")\n",
    "cerberus_img = \"https://astrogeology.usgs.gov/cache/images/cfa62af2557222a02478f1fcd781d445_cerberus_enhanced.tif_full.jpg\"\n",
    "print(cerberus_img)"
   ]
  },
  {
   "cell_type": "code",
   "execution_count": 40,
   "metadata": {},
   "outputs": [
    {
     "name": "stdout",
     "output_type": "stream",
     "text": [
      "https://astrogeology.usgs.gov/cache/images/3cdd1cbf5e0813bba925c9030d13b62e_schiaparelli_enhanced.tif_full.jpg\n"
     ]
    }
   ],
   "source": [
    "link_pic2 = \"https://astrogeology.usgs.gov/search/map/Mars/Viking/schiaparelli_enhanced\"\n",
    "schiaparelli_response = requests.get(link_pic2)\n",
    "schiaparelli_soup = bs(schiaparelli_response.text,\"html.parser\")\n",
    "#print(schiaparelli_soup.prettify())\n",
    "\n",
    "schiaparelli_soup.find_all(\"img\",class_=\"wide-image\")\n",
    "schiaparelli_img = \"https://astrogeology.usgs.gov/cache/images/3cdd1cbf5e0813bba925c9030d13b62e_schiaparelli_enhanced.tif_full.jpg\"\n",
    "\n",
    "print(schiaparelli_img)\n"
   ]
  },
  {
   "cell_type": "code",
   "execution_count": 41,
   "metadata": {},
   "outputs": [
    {
     "name": "stdout",
     "output_type": "stream",
     "text": [
      "https://astrogeology.usgs.gov/cache/images/ae209b4e408bb6c3e67b6af38168cf28_syrtis_major_enhanced.tif_full.jpg\n"
     ]
    }
   ],
   "source": [
    "link_pic3= \"https://astrogeology.usgs.gov/search/map/Mars/Viking/syrtis_major_enhanced\"\n",
    "syrtis_response = requests.get(link_pic3)\n",
    "syrtis_soup = bs(syrtis_response.text,\"html.parser\")\n",
    "\n",
    "syrtis_soup.find_all(\"img\",class_=\"wide-image\")\n",
    "syrtis_img = \"https://astrogeology.usgs.gov/cache/images/ae209b4e408bb6c3e67b6af38168cf28_syrtis_major_enhanced.tif_full.jpg\"\n",
    "\n",
    "print(syrtis_img)"
   ]
  },
  {
   "cell_type": "code",
   "execution_count": 42,
   "metadata": {},
   "outputs": [
    {
     "name": "stdout",
     "output_type": "stream",
     "text": [
      "https://astrogeology.usgs.gov/cache/images/7cf2da4bf549ed01c17f206327be4db7_valles_marineris_enhanced.tif_full.jpg\n"
     ]
    }
   ],
   "source": [
    "link_pic4= \"https://astrogeology.usgs.gov/search/map/Mars/Viking/valles_marineris_enhanced\"\n",
    "valles_response = requests.get(link_pic4)\n",
    "valles_soup = bs(valles_response.text,\"html.parser\")\n",
    "\n",
    "valles_soup.find_all(\"img\",class_=\"wide-image\")\n",
    "valles_img =\"https://astrogeology.usgs.gov/cache/images/7cf2da4bf549ed01c17f206327be4db7_valles_marineris_enhanced.tif_full.jpg\"\n",
    "\n",
    "print(valles_img)"
   ]
  },
  {
   "cell_type": "code",
   "execution_count": 37,
   "metadata": {
    "collapsed": true
   },
   "outputs": [],
   "source": [
    "hemisphere_image_urls = [\n",
    "    {\"title\":\"Cerberus Hemisphere\",\"img_url\":cerberus_img},\n",
    "    {\"title\":\"Schiaparelli Hemisphere\",\"img_url\":schiaparelli_img},\n",
    "    {\"title\":\"Syrtis Major\",\"img_url\":syrtis_img},\n",
    "    {\"title\":\"Valles Marineris\",\"img_url\":valles_img}\n",
    "    \n",
    "]\n",
    "\n",
    "hemisphere_image_urls\n",
    "\n",
    "scrape_dict[\"hemisphere_image_urls\"] = hemisphere_image_urls\n"
   ]
  },
  {
   "cell_type": "code",
   "execution_count": 50,
   "metadata": {},
   "outputs": [
    {
     "data": {
      "text/plain": [
       "[{'img_url': 'https://astrogeology.usgs.gov/cache/images/cfa62af2557222a02478f1fcd781d445_cerberus_enhanced.tif_full.jpg',\n",
       "  'title': 'Cerberus Hemisphere'},\n",
       " {'img_url': 'https://astrogeology.usgs.gov/cache/images/3cdd1cbf5e0813bba925c9030d13b62e_schiaparelli_enhanced.tif_full.jpg',\n",
       "  'title': 'Schiaparelli Hemisphere'},\n",
       " {'img_url': 'https://astrogeology.usgs.gov/cache/images/ae209b4e408bb6c3e67b6af38168cf28_syrtis_major_enhanced.tif_full.jpg',\n",
       "  'title': 'Syrtis Major'},\n",
       " {'img_url': 'https://astrogeology.usgs.gov/cache/images/7cf2da4bf549ed01c17f206327be4db7_valles_marineris_enhanced.tif_full.jpg',\n",
       "  'title': 'Valles Marineris'}]"
      ]
     },
     "execution_count": 50,
     "metadata": {},
     "output_type": "execute_result"
    }
   ],
   "source": [
    "scrape_dict[\"hemisphere_image_urls\"]"
   ]
  },
  {
   "cell_type": "code",
   "execution_count": 53,
   "metadata": {},
   "outputs": [
    {
     "name": "stdout",
     "output_type": "stream",
     "text": [
      "https://astrogeology.usgs.gov/cache/images/cfa62af2557222a02478f1fcd781d445_cerberus_enhanced.tif_full.jpg\n",
      "https://astrogeology.usgs.gov/cache/images/3cdd1cbf5e0813bba925c9030d13b62e_schiaparelli_enhanced.tif_full.jpg\n",
      "https://astrogeology.usgs.gov/cache/images/ae209b4e408bb6c3e67b6af38168cf28_syrtis_major_enhanced.tif_full.jpg\n",
      "https://astrogeology.usgs.gov/cache/images/7cf2da4bf549ed01c17f206327be4db7_valles_marineris_enhanced.tif_full.jpg\n"
     ]
    },
    {
     "data": {
      "text/plain": [
       "'https://astrogeology.usgs.gov/cache/images/cfa62af2557222a02478f1fcd781d445_cerberus_enhanced.tif_full.jpg'"
      ]
     },
     "execution_count": 53,
     "metadata": {},
     "output_type": "execute_result"
    }
   ],
   "source": [
    "face_links_mars = []\n",
    "for i in scrape_dict[\"hemisphere_image_urls\"]:\n",
    "    print(i['img_url'])\n",
    "    face_links_mars.append(i['img_url'])\n",
    "    \n",
    "face_links_mars[0]\n",
    "    "
   ]
  },
  {
   "cell_type": "code",
   "execution_count": 54,
   "metadata": {
    "collapsed": true
   },
   "outputs": [],
   "source": [
    "face_links_mars = []\n",
    "for i in scrape_dict[\"hemisphere_image_urls\"]:\n",
    "    face_links_mars.append(i['img_url'])\n",
    "mf1 = face_links_mars[0]\n",
    "scrape_dict[\"mf1\"] = mf1\n",
    "mf2 = face_links_mars[1]\n",
    "scrape_dict[\"mf2\"] = mf2\n",
    "mf3 = face_links_mars[2]\n",
    "scrape_dict[\"mf3\"] = mf3\n",
    "mf4 = face_links_mars[3]\n",
    "scrape_dict[\"mf4\"] = mf4"
   ]
  },
  {
   "cell_type": "code",
   "execution_count": 55,
   "metadata": {},
   "outputs": [
    {
     "data": {
      "text/plain": [
       "{'facts_table': '<table border=\"1\" class=\"dataframe\">\\n  <thead>\\n    <tr style=\"text-align: right;\">\\n      <th></th>\\n      <th>Description</th>\\n      <th>Facts</th>\\n    </tr>\\n  </thead>\\n  <tbody>\\n    <tr>\\n      <th>0</th>\\n      <td>Equatorial Diameter:</td>\\n      <td>6,792 km</td>\\n    </tr>\\n    <tr>\\n      <th>1</th>\\n      <td>Polar Diameter:</td>\\n      <td>6,752 km</td>\\n    </tr>\\n    <tr>\\n      <th>2</th>\\n      <td>Mass:</td>\\n      <td>6.42 x 10^23 kg (10.7% Earth)</td>\\n    </tr>\\n    <tr>\\n      <th>3</th>\\n      <td>Moons:</td>\\n      <td>2 (Phobos &amp; Deimos)</td>\\n    </tr>\\n    <tr>\\n      <th>4</th>\\n      <td>Orbit Distance:</td>\\n      <td>227,943,824 km (1.52 AU)</td>\\n    </tr>\\n    <tr>\\n      <th>5</th>\\n      <td>Orbit Period:</td>\\n      <td>687 days (1.9 years)</td>\\n    </tr>\\n    <tr>\\n      <th>6</th>\\n      <td>Surface Temperature:</td>\\n      <td>-153 to 20 °C</td>\\n    </tr>\\n    <tr>\\n      <th>7</th>\\n      <td>First Record:</td>\\n      <td>2nd millennium BC</td>\\n    </tr>\\n    <tr>\\n      <th>8</th>\\n      <td>Recorded By:</td>\\n      <td>Egyptian astronomers</td>\\n    </tr>\\n  </tbody>\\n</table>',\n",
       " 'featured_link': 'https://www.jpl.nasa.gov//spaceimages/images/mediumsize/PIA16469_ip.jpg',\n",
       " 'hemisphere_image_urls': [{'img_url': 'https://astrogeology.usgs.gov/cache/images/cfa62af2557222a02478f1fcd781d445_cerberus_enhanced.tif_full.jpg',\n",
       "   'title': 'Cerberus Hemisphere'},\n",
       "  {'img_url': 'https://astrogeology.usgs.gov/cache/images/3cdd1cbf5e0813bba925c9030d13b62e_schiaparelli_enhanced.tif_full.jpg',\n",
       "   'title': 'Schiaparelli Hemisphere'},\n",
       "  {'img_url': 'https://astrogeology.usgs.gov/cache/images/ae209b4e408bb6c3e67b6af38168cf28_syrtis_major_enhanced.tif_full.jpg',\n",
       "   'title': 'Syrtis Major'},\n",
       "  {'img_url': 'https://astrogeology.usgs.gov/cache/images/7cf2da4bf549ed01c17f206327be4db7_valles_marineris_enhanced.tif_full.jpg',\n",
       "   'title': 'Valles Marineris'}],\n",
       " 'latest_paragraph': 'The first CubeSat mission to deep space will launch in May.',\n",
       " 'latest_title': 'NASA Engineers Dream Big with Small Spacecraft',\n",
       " 'latest_weather': 'Sol 2026 (April 18, 2018), Sunny, high -6C/21F, low -73C/-99F, pressure at 7.19 hPa, daylight 05:26-17:21',\n",
       " 'mf1': 'https://astrogeology.usgs.gov/cache/images/cfa62af2557222a02478f1fcd781d445_cerberus_enhanced.tif_full.jpg',\n",
       " 'mf2': 'https://astrogeology.usgs.gov/cache/images/3cdd1cbf5e0813bba925c9030d13b62e_schiaparelli_enhanced.tif_full.jpg',\n",
       " 'mf3': 'https://astrogeology.usgs.gov/cache/images/ae209b4e408bb6c3e67b6af38168cf28_syrtis_major_enhanced.tif_full.jpg',\n",
       " 'mf4': 'https://astrogeology.usgs.gov/cache/images/7cf2da4bf549ed01c17f206327be4db7_valles_marineris_enhanced.tif_full.jpg'}"
      ]
     },
     "execution_count": 55,
     "metadata": {},
     "output_type": "execute_result"
    }
   ],
   "source": [
    "scrape_dict"
   ]
  },
  {
   "cell_type": "code",
   "execution_count": 61,
   "metadata": {},
   "outputs": [
    {
     "name": "stdout",
     "output_type": "stream",
     "text": [
      "https://www.jpl.nasa.gov//spaceimages/images/mediumsize/PIA16469_ip.jpg\n"
     ]
    }
   ],
   "source": [
    "print(jpl_link)"
   ]
  },
  {
   "cell_type": "code",
   "execution_count": 58,
   "metadata": {},
   "outputs": [
    {
     "data": {
      "text/plain": [
       "'https://astrogeology.usgs.gov/cache/images/cfa62af2557222a02478f1fcd781d445_cerberus_enhanced.tif_full.jpg'"
      ]
     },
     "execution_count": 58,
     "metadata": {},
     "output_type": "execute_result"
    }
   ],
   "source": [
    "mf1"
   ]
  },
  {
   "cell_type": "code",
   "execution_count": 59,
   "metadata": {},
   "outputs": [
    {
     "data": {
      "text/plain": [
       "'https://astrogeology.usgs.gov/cache/images/cfa62af2557222a02478f1fcd781d445_cerberus_enhanced.tif_full.jpg'"
      ]
     },
     "execution_count": 59,
     "metadata": {},
     "output_type": "execute_result"
    }
   ],
   "source": [
    "cerberus_img"
   ]
  },
  {
   "cell_type": "code",
   "execution_count": 60,
   "metadata": {},
   "outputs": [
    {
     "name": "stdout",
     "output_type": "stream",
     "text": [
      "https://astrogeology.usgs.gov/cache/images/cfa62af2557222a02478f1fcd781d445_cerberus_enhanced.tif_full.jpg\n"
     ]
    }
   ],
   "source": [
    "print(cerberus_img)"
   ]
  },
  {
   "cell_type": "code",
   "execution_count": null,
   "metadata": {
    "collapsed": true
   },
   "outputs": [],
   "source": [
    "featured_image = \"https://www.jpl.nasa.gov/spaceimages/?search=&category=Mars\"\n",
    "browser.visit(featured_image)\n",
    "mars_browser = browser.html\n",
    "featured_mars=bs(mars_browser,'html.parser')\n",
    "featured_path = featured_mars.find(\"a\",\"fancybox\")[\"data-fancybox-href\"]\n",
    "jpl_link = \"https://www.jpl.nasa.gov/\" + featured_path\n",
    "scrape_dict[\"jpl_link\"]= jpl_link"
   ]
  },
  {
   "cell_type": "code",
   "execution_count": 78,
   "metadata": {},
   "outputs": [
    {
     "data": {
      "text/plain": [
       "'/cache/images/cfa62af2557222a02478f1fcd781d445_cerberus_enhanced.tif_full.jpg'"
      ]
     },
     "execution_count": 78,
     "metadata": {},
     "output_type": "execute_result"
    }
   ],
   "source": [
    "browser = init_browser()\n",
    "\n",
    "fourmars_link = \"https://astrogeology.usgs.gov/search/map/Mars/Viking/cerberus_enhanced\"\n",
    "browser.visit(fourmars_link)\n",
    "fourfaces = browser.html\n",
    "html_fourface = bs(fourfaces,'html.parser')\n",
    "cer_hem = html_fourface.find(\"img\", class_=\"wide-image\")[\"src\"]\n",
    "cer_hem\n",
    "\n"
   ]
  },
  {
   "cell_type": "code",
   "execution_count": 80,
   "metadata": {},
   "outputs": [
    {
     "name": "stdout",
     "output_type": "stream",
     "text": [
      "https://astrogeology.usgs.gov/cache/images/cfa62af2557222a02478f1fcd781d445_cerberus_enhanced.tif_full.jpg\n"
     ]
    }
   ],
   "source": [
    "astrogeology_url = \"https://astrogeology.usgs.gov\"\n",
    "cerberus_png = astrogeology_url + cer_hem\n",
    "print(cerberus_png)"
   ]
  },
  {
   "cell_type": "code",
   "execution_count": 83,
   "metadata": {
    "collapsed": true
   },
   "outputs": [],
   "source": [
    "link_pic2 = \"https://astrogeology.usgs.gov/search/map/Mars/Viking/schiaparelli_enhanced\"\n",
    "browser.visit(link_pic2)\n",
    "link2 = browser.html\n",
    "html_link2 = bs(link2, 'html.parser')\n",
    "sch_hem = html_link2.find(\"img\", class_=\"wide-image\")[\"src\"]\n",
    "schiaparelli_png = astrogeology_url + sch_hem\n",
    "scrape_dict[\"schiaparelli_png\"] = schiaparelli_png"
   ]
  },
  {
   "cell_type": "code",
   "execution_count": 84,
   "metadata": {},
   "outputs": [
    {
     "name": "stdout",
     "output_type": "stream",
     "text": [
      "https://astrogeology.usgs.gov/cache/images/3cdd1cbf5e0813bba925c9030d13b62e_schiaparelli_enhanced.tif_full.jpg\n"
     ]
    }
   ],
   "source": [
    "print(schiaparelli_png)"
   ]
  },
  {
   "cell_type": "code",
   "execution_count": 85,
   "metadata": {
    "collapsed": true
   },
   "outputs": [],
   "source": [
    "link_pic3= \"https://astrogeology.usgs.gov/search/map/Mars/Viking/syrtis_major_enhanced\"\n",
    "browser.visit(link_pic3)\n",
    "link3 = browser.html\n",
    "html_link3 = bs(link3, 'html.parser')\n",
    "syrt_hem = html_link3.find(\"img\", class_=\"wide-image\")[\"src\"]\n",
    "syrtis_png = astrogeology_url + syrt_hem\n",
    "scrape_dict[\"syrtis_png\"] = syrtis_png"
   ]
  },
  {
   "cell_type": "code",
   "execution_count": 86,
   "metadata": {},
   "outputs": [
    {
     "name": "stdout",
     "output_type": "stream",
     "text": [
      "https://astrogeology.usgs.gov/cache/images/ae209b4e408bb6c3e67b6af38168cf28_syrtis_major_enhanced.tif_full.jpg\n"
     ]
    }
   ],
   "source": [
    "print(syrtis_png)"
   ]
  },
  {
   "cell_type": "code",
   "execution_count": 87,
   "metadata": {
    "collapsed": true
   },
   "outputs": [],
   "source": [
    "link_pic4= \"https://astrogeology.usgs.gov/search/map/Mars/Viking/valles_marineris_enhanced\"\n",
    "browser.visit(link_pic4)\n",
    "link4 = browser.html\n",
    "html_link4 = bs(link4, 'html.parser')\n",
    "valles_hem = html_link4.find(\"img\", class_=\"wide-image\")[\"src\"]\n",
    "valles_png = astrogeology_url + valles_hem\n",
    "scrape_dict[\"valles_png\"] = valles_png"
   ]
  },
  {
   "cell_type": "code",
   "execution_count": 88,
   "metadata": {},
   "outputs": [
    {
     "name": "stdout",
     "output_type": "stream",
     "text": [
      "https://astrogeology.usgs.gov/cache/images/7cf2da4bf549ed01c17f206327be4db7_valles_marineris_enhanced.tif_full.jpg\n"
     ]
    }
   ],
   "source": [
    "print(valles_png)"
   ]
  },
  {
   "cell_type": "code",
   "execution_count": null,
   "metadata": {
    "collapsed": true
   },
   "outputs": [],
   "source": []
  },
  {
   "cell_type": "code",
   "execution_count": 9,
   "metadata": {
    "collapsed": true
   },
   "outputs": [],
   "source": [
    "def scrape():\n",
    "    browser = init_browser()\n",
    "    scrape_dict = {}\n",
    "    nasa_url = \"https://mars.nasa.gov/news/\"\n",
    "    browser.visit(nasa_url)\n",
    "    nasa_html = browser.html\n",
    "    nasa_soup=bs(nasa_html, 'html.parser')\n",
    "    titles = []\n",
    "    results = nasa_soup.find_all('div',class_=\"content_title\")  \n",
    "    latest_title=results[0].text\n",
    "    scrape_dict[\"latest_title\"] = latest_title\n",
    "    paragraph = []\n",
    "    paras = nasa_soup.find_all('div', class_='rollover_description_inner')\n",
    "    latest_paragraph = paras[0].text\n",
    "    scrape_dict[\"latest_paragraph\"] = latest_paragraph\n",
    "    featured_image = \"https://www.jpl.nasa.gov/spaceimages/?search=&category=Mars\"\n",
    "    browser.visit(featured_image)\n",
    "    mars_browser = browser.html\n",
    "    featured_mars=bs(mars_browser,'html.parser')\n",
    "    featured_path = featured_mars.find(\"a\",\"fancybox\")[\"data-fancybox-href\"]\n",
    "    jpl_link = \"https://www.jpl.nasa.gov/\" + featured_path\n",
    "    scrape_dict[\"jpl_link\"]= jpl_link\n",
    "\n",
    "    twitter_url = \"https://twitter.com/marswxreport?lang=en\"\n",
    "    weather_response = requests.get(twitter_url)\n",
    "    weather_tweets = bs(weather_response.text,\"html.parser\")\n",
    "    #first weather tweet for mars \n",
    "    latest_weather = weather_tweets.find_all(\"p\",class_=\"TweetTextSize\")[0].text.strip()\n",
    "    scrape_dict[\"latest_weather\"] = latest_weather\n",
    "    #mars facts\n",
    "    facts_url = \"https://space-facts.com/mars/\"\n",
    "    facts_response = requests.get(facts_url)\n",
    "    facts_soup = bs(facts_response.text,\"html.parser\")\n",
    "    table = facts_soup.find_all('table')[0]\n",
    "    facts_list = pd.read_html(str(table))[0]\n",
    "    df = facts_list.rename(index = str, columns={0:\"Description\", 1:\"Facts\"})\n",
    "    html_table = df.to_html()\n",
    "    scrape_dict[\"facts_table\"] = html_table\n",
    "\n",
    "    #hemispheres\n",
    "    # link_pic1 = \"https://astrogeology.usgs.gov/search/map/Mars/Viking/cerberus_enhanced\"\n",
    "    # cerberus_response = requests.get(link_pic1)\n",
    "    # cerberus_soup = bs(cerberus_response.text,\"html.parser\")\n",
    "    # cerberus_soup.find_all(\"img\",class_=\"wide-image\")\n",
    "    # cerberus_img = \"https://astrogeology.usgs.gov/cache/images/cfa62af2557222a02478f1fcd781d445_cerberus_enhanced.tif_full.jpg\"\n",
    "    # scrape_dict[\"cerberus_img\"] = cerberus_img\n",
    "    link_pic1 = \"https://astrogeology.usgs.gov/search/map/Mars/Viking/cerberus_enhanced\"\n",
    "    browser.visit(link_pic1)\n",
    "    link1 = browser.html\n",
    "    html_link1 = bs(link1,'html.parser')\n",
    "    cer_hem = html_link1.find(\"img\", class_=\"wide-image\")[\"src\"]\n",
    "    astrogeology_url = \"https://astrogeology.usgs.gov/\"\n",
    "    cerberus_png = astrogeology_url + cer_hem\n",
    "    scrape_dict[\"cerberus_png\"] = cerberus_png\n",
    "\n",
    "    link_pic2 = \"https://astrogeology.usgs.gov/search/map/Mars/Viking/schiaparelli_enhanced\"\n",
    "    browser.visit(link_pic2)\n",
    "    link2 = browser.html\n",
    "    html_link2 = bs(link2, 'html.parser')\n",
    "    sch_hem = html_link2.find(\"img\", class_=\"wide-image\")[\"src\"]\n",
    "    schiaparelli_png = astrogeology_url + sch_hem\n",
    "    scrape_dict[\"schiaparelli_png\"] = schiaparelli_png\n",
    "\n",
    "    link_pic3= \"https://astrogeology.usgs.gov/search/map/Mars/Viking/syrtis_major_enhanced\"\n",
    "    browser.visit(link_pic3)\n",
    "    link3 = browser.html\n",
    "    html_link3 = bs(link3, 'html.parser')\n",
    "    syrt_hem = html_link3.find(\"img\", class_=\"wide-image\")[\"src\"]\n",
    "    syrtis_png = astrogeology_url + syrt_hem\n",
    "    scrape_dict[\"syrtis_png\"] = syrtis_png\n",
    "   \n",
    "    link_pic4= \"https://astrogeology.usgs.gov/search/map/Mars/Viking/valles_marineris_enhanced\"\n",
    "    browser.visit(link_pic4)\n",
    "    link4 = browser.html\n",
    "    html_link4 = bs(link4, 'html.parser')\n",
    "    valles_hem = html_link4.find(\"img\", class_=\"wide-image\")[\"src\"]\n",
    "    valles_png = astrogeology_url + valles_hem\n",
    "    scrape_dict[\"valles_png\"] = valles_png\n",
    "    \n",
    "\n",
    "    hemisphere_image_urls = [\n",
    "        {\"title\":\"Cerberus Hemisphere\",\"img_url\":cerberus_png},\n",
    "        {\"title\":\"Schiaparelli Hemisphere\",\"img_url\":schiaparelli_png},\n",
    "        {\"title\":\"Syrtis Major\",\"img_url\":syrtis_png},\n",
    "        {\"title\":\"Valles Marineris\",\"img_url\":valles_png}    \n",
    "    ]\n",
    " \n",
    "    scrape_dict[\"hemisphere_image_urls\"] = hemisphere_image_urls\n",
    "\n",
    "\n",
    "    collection.insert_one(scrape_dict)\n",
    "\n",
    "\n",
    "    return scrape_dict"
   ]
  },
  {
   "cell_type": "code",
   "execution_count": 12,
   "metadata": {},
   "outputs": [
    {
     "data": {
      "text/plain": [
       "{'_id': ObjectId('5adc1544813d43bf61cdf761'),\n",
       " 'cerberus_png': 'https://astrogeology.usgs.gov//cache/images/cfa62af2557222a02478f1fcd781d445_cerberus_enhanced.tif_full.jpg',\n",
       " 'facts_table': '<table border=\"1\" class=\"dataframe\">\\n  <thead>\\n    <tr style=\"text-align: right;\">\\n      <th></th>\\n      <th>Description</th>\\n      <th>Facts</th>\\n    </tr>\\n  </thead>\\n  <tbody>\\n    <tr>\\n      <th>0</th>\\n      <td>Equatorial Diameter:</td>\\n      <td>6,792 km</td>\\n    </tr>\\n    <tr>\\n      <th>1</th>\\n      <td>Polar Diameter:</td>\\n      <td>6,752 km</td>\\n    </tr>\\n    <tr>\\n      <th>2</th>\\n      <td>Mass:</td>\\n      <td>6.42 x 10^23 kg (10.7% Earth)</td>\\n    </tr>\\n    <tr>\\n      <th>3</th>\\n      <td>Moons:</td>\\n      <td>2 (Phobos &amp; Deimos)</td>\\n    </tr>\\n    <tr>\\n      <th>4</th>\\n      <td>Orbit Distance:</td>\\n      <td>227,943,824 km (1.52 AU)</td>\\n    </tr>\\n    <tr>\\n      <th>5</th>\\n      <td>Orbit Period:</td>\\n      <td>687 days (1.9 years)</td>\\n    </tr>\\n    <tr>\\n      <th>6</th>\\n      <td>Surface Temperature:</td>\\n      <td>-153 to 20 °C</td>\\n    </tr>\\n    <tr>\\n      <th>7</th>\\n      <td>First Record:</td>\\n      <td>2nd millennium BC</td>\\n    </tr>\\n    <tr>\\n      <th>8</th>\\n      <td>Recorded By:</td>\\n      <td>Egyptian astronomers</td>\\n    </tr>\\n  </tbody>\\n</table>',\n",
       " 'hemisphere_image_urls': [{'img_url': 'https://astrogeology.usgs.gov//cache/images/cfa62af2557222a02478f1fcd781d445_cerberus_enhanced.tif_full.jpg',\n",
       "   'title': 'Cerberus Hemisphere'},\n",
       "  {'img_url': 'https://astrogeology.usgs.gov//cache/images/3cdd1cbf5e0813bba925c9030d13b62e_schiaparelli_enhanced.tif_full.jpg',\n",
       "   'title': 'Schiaparelli Hemisphere'},\n",
       "  {'img_url': 'https://astrogeology.usgs.gov//cache/images/ae209b4e408bb6c3e67b6af38168cf28_syrtis_major_enhanced.tif_full.jpg',\n",
       "   'title': 'Syrtis Major'},\n",
       "  {'img_url': 'https://astrogeology.usgs.gov//cache/images/7cf2da4bf549ed01c17f206327be4db7_valles_marineris_enhanced.tif_full.jpg',\n",
       "   'title': 'Valles Marineris'}],\n",
       " 'jpl_link': 'https://www.jpl.nasa.gov//spaceimages/images/mediumsize/PIA18432_ip.jpg',\n",
       " 'latest_paragraph': 'The first CubeSat mission to deep space will launch in May.',\n",
       " 'latest_title': 'NASA Engineers Dream Big with Small Spacecraft',\n",
       " 'latest_weather': 'Sol 2026 (April 18, 2018), Sunny, high -6C/21F, low -73C/-99F, pressure at 7.19 hPa, daylight 05:26-17:21',\n",
       " 'schiaparelli_png': 'https://astrogeology.usgs.gov//cache/images/3cdd1cbf5e0813bba925c9030d13b62e_schiaparelli_enhanced.tif_full.jpg',\n",
       " 'syrtis_png': 'https://astrogeology.usgs.gov//cache/images/ae209b4e408bb6c3e67b6af38168cf28_syrtis_major_enhanced.tif_full.jpg',\n",
       " 'valles_png': 'https://astrogeology.usgs.gov//cache/images/7cf2da4bf549ed01c17f206327be4db7_valles_marineris_enhanced.tif_full.jpg'}"
      ]
     },
     "execution_count": 12,
     "metadata": {},
     "output_type": "execute_result"
    }
   ],
   "source": [
    "scrape()"
   ]
  },
  {
   "cell_type": "code",
   "execution_count": null,
   "metadata": {
    "collapsed": true
   },
   "outputs": [],
   "source": []
  }
 ],
 "metadata": {
  "kernelspec": {
   "display_name": "Python[PythonData]",
   "language": "python",
   "name": "pythondata"
  },
  "language_info": {
   "codemirror_mode": {
    "name": "ipython",
    "version": 3
   },
   "file_extension": ".py",
   "mimetype": "text/x-python",
   "name": "python",
   "nbconvert_exporter": "python",
   "pygments_lexer": "ipython3",
   "version": "3.6.5"
  }
 },
 "nbformat": 4,
 "nbformat_minor": 2
}
